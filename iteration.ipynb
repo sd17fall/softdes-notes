{
 "cells": [
  {
   "cell_type": "markdown",
   "metadata": {},
   "source": [
    "# Iteration"
   ]
  },
  {
   "cell_type": "markdown",
   "metadata": {},
   "source": [
    "Let's write a script that computes the number of letters in the words in a list. For example, if the list has the words \"fabulous\", \"flying\", and \"phoenix\", the number of letters is 8 + 6 + 7 = 21.\n",
    "\n",
    "Here's a **detailed design** (or **low-level design**) that is intended to satisfy this specification:\n",
    "\n",
    "1. For each word in the list:\n",
    "  1. Count its letters\n",
    "  2. Add that count to a running total\n",
    "2. Return the total\n",
    "\n",
    "Let's implement this design using `while` and `break`:"
   ]
  },
  {
   "cell_type": "code",
   "execution_count": 3,
   "metadata": {
    "scrolled": true
   },
   "outputs": [
    {
     "name": "stdout",
     "output_type": "stream",
     "text": [
      "these words total 21 letters\n"
     ]
    }
   ],
   "source": [
    "words = [\"fabulous\", \"flying\", \"phoenix\"]\n",
    "\n",
    "letter_count = 0\n",
    "i = 0\n",
    "while True:\n",
    "    w = words[i]\n",
    "    letter_count = letter_count + len(w)\n",
    "    i = i + 1\n",
    "    if i >= len(words):\n",
    "        break\n",
    "print(\"these words total\", letter_count, \"letters\")"
   ]
  },
  {
   "cell_type": "markdown",
   "metadata": {},
   "source": [
    "Note how many *places* and *ways* the variable `i` is used. I've labelled these with comments below."
   ]
  },
  {
   "cell_type": "code",
   "execution_count": 3,
   "metadata": {},
   "outputs": [
    {
     "name": "stdout",
     "output_type": "stream",
     "text": [
      "these words total 21 letters\n"
     ]
    }
   ],
   "source": [
    "words = [\"fabulous\", \"flying\", \"phoenix\"]\n",
    "\n",
    "letter_count = 0\n",
    "i = 0                    # <- initialize\n",
    "while True:\n",
    "    w = words[i]         # <- index\n",
    "    letter_count = letter_count + len(w)\n",
    "    i = i + 1            # <- increment\n",
    "    if i >= len(words):  # <- test\n",
    "        break\n",
    "print(\"these words total\", letter_count, \"letters\")"
   ]
  },
  {
   "cell_type": "markdown",
   "metadata": {},
   "source": [
    "Also note the **control flow** – which parts of the code decide how many times the loop is executed; equivalently in this case, for each line of code, what happens next."
   ]
  },
  {
   "cell_type": "code",
   "execution_count": 64,
   "metadata": {},
   "outputs": [
    {
     "name": "stdout",
     "output_type": "stream",
     "text": [
      "these words total 21 letters\n"
     ]
    }
   ],
   "source": [
    "words = [\"fabulous\", \"flying\", \"phoenix\"]\n",
    "\n",
    "letter_count = 0\n",
    "i = 0\n",
    "while True:              # <- loop for ever – but not really, because:\n",
    "    w = words[i]\n",
    "    letter_count = letter_count + len(w)\n",
    "    i = i + 1\n",
    "    if i >= len(words):\n",
    "        break            # <- terminate the loop\n",
    "print(\"these words total\", letter_count, \"letters\")"
   ]
  },
  {
   "cell_type": "markdown",
   "metadata": {},
   "source": [
    "This implementation distributes a single idea (\"for each word in the list\") from the design, across a number of different places in the implementation. It makes it difficult to match the implementation to the specification, and see if they describe the same process.\n",
    "\n",
    "\"For each word\" is split into pieces, and woven into different parts of the script.\n",
    "\n",
    "It's also hard to read off where the `while` loop terminates. It looks from the `while` line like it goes on forever; you have to read to the end of its body to find the `break`, hidden inside of an `if`.\n",
    "\n",
    "We can reduce the number of different places that the implementation of \"For each word\" pops up, and also making the control flow more readable, by moving the termination condition into the `while` test:"
   ]
  },
  {
   "cell_type": "code",
   "execution_count": 4,
   "metadata": {},
   "outputs": [
    {
     "name": "stdout",
     "output_type": "stream",
     "text": [
      "these words total 21 letters\n"
     ]
    }
   ],
   "source": [
    "words = [\"fabulous\", \"flying\", \"phoenix\"]\n",
    "\n",
    "letter_count = 0\n",
    "i = 0                  # <- initialize\n",
    "while i < len(words):  # <- test and terminate\n",
    "    w = words[i]       # <- index\n",
    "    letter_count = letter_count + len(w)\n",
    "    i = i + 1          # <- increment\n",
    "print(\"these words total\", letter_count, \"letters\")"
   ]
  },
  {
   "cell_type": "markdown",
   "metadata": {},
   "source": [
    "### `for` and `range`"
   ]
  },
  {
   "cell_type": "markdown",
   "metadata": {},
   "source": [
    "We can go one step further by replacing `while`, with `for` and `range`.\n",
    "\n",
    "First, let's review how `range` works.\n",
    "\n",
    "`range` returns a sequence that acts like `[0, 1, 2, 3]`, except we don't have to know when we write the code how long the list should be.\n",
    "\n",
    "(The value returned by `range` only acts behaves as a list, it isn't an actual list. This works fine in a `for` loop, but it means that `print` isn't completely helpful for learning about it. We'll work around this by applying the `list` function to the value returned by `range`. This creates the list that the range value behaves like.)"
   ]
  },
  {
   "cell_type": "code",
   "execution_count": 60,
   "metadata": {},
   "outputs": [
    {
     "name": "stdout",
     "output_type": "stream",
     "text": [
      "len(words) = 3\n",
      "range(3) = range(0, 3)\n",
      "range(3) behaves as [0, 1, 2]\n",
      "range(len(words)) behaves as [0, 1, 2]\n"
     ]
    }
   ],
   "source": [
    "print(\"len(words) =\", len(words))\n",
    "print(\"range(3) =\", range(3))\n",
    "print(\"range(3) behaves as\", list(range(3)))\n",
    "print(\"range(len(words)) behaves as\", list(range(len(words))))"
   ]
  },
  {
   "cell_type": "markdown",
   "metadata": {},
   "source": [
    "`for` introduces a variable (just like `=` does), assigns it the first item in a sequence (just like `i = range(len(words))[0]` would), and runs the body of the loop (just like `while` does). Then it assigns the variable the *next* item in the sequence, and runs the loop again.\n",
    "\n",
    "```python\n",
    "for item in lst:\n",
    "  # code\n",
    "```\n",
    "\n",
    "is just the same as:\n",
    "\n",
    "```python\n",
    "i = 0\n",
    "while i < len(lst):\n",
    "    # code\n",
    "    i = i + 1\n",
    "```\n",
    "\n",
    "except that Python takes care of managing `i` for us."
   ]
  },
  {
   "cell_type": "code",
   "execution_count": 5,
   "metadata": {},
   "outputs": [
    {
     "name": "stdout",
     "output_type": "stream",
     "text": [
      "these words total 21 letters\n"
     ]
    }
   ],
   "source": [
    "words = [\"fabulous\", \"flying\", \"phoenix\"]\n",
    "\n",
    "letter_count = 0\n",
    "for i in range(len(words)): # <- initialize, increment, test, and terminate\n",
    "    w = words[i]            # <- index\n",
    "    letter_count = letter_count + len(w)\n",
    "print(\"these words total\", letter_count, \"letters\")"
   ]
  },
  {
   "cell_type": "markdown",
   "metadata": {},
   "source": [
    "Now \"For each word\" only pops up in two places: in the `for` line where `i` is *assigned* etc., and in `w = words[i]` where we *use* it.\n",
    "\n",
    "We can do one better. Instead of using `for` to iterate over the indices – which we only need in order to get the words of the list – we can iterate over the words themselves."
   ]
  },
  {
   "cell_type": "code",
   "execution_count": 38,
   "metadata": {
    "scrolled": true
   },
   "outputs": [
    {
     "name": "stdout",
     "output_type": "stream",
     "text": [
      "these words total 21 letters\n"
     ]
    }
   ],
   "source": [
    "words = [\"fabulous\", \"flying\", \"phoenix\"]\n",
    "\n",
    "letter_count = 0\n",
    "for w in words: # <- initialize, index, increment, test, and terminate\n",
    "    letter_count = letter_count + len(w)\n",
    "print(\"these words total\", letter_count, \"letters\")"
   ]
  },
  {
   "cell_type": "markdown",
   "metadata": {},
   "source": [
    "Compare \"For each word\" from the *specification*, to `for w in words` from the *implementation*. This is a much closer match.\n",
    "\n",
    "Something to strive for in your programs is an implementation whose structure matches the specification and the design. Sometimes this involves creating functions that matches words of the specification. (This is where \"Growing a Language\" comes in.) Sometimes it involves re-thinking the design – is there a clearer way to say the same thing, that lends itself better to coding."
   ]
  },
  {
   "cell_type": "markdown",
   "metadata": {},
   "source": [
    "## Nested Loops"
   ]
  },
  {
   "cell_type": "markdown",
   "metadata": {},
   "source": [
    "The refinement above reduced the number of lines of code, and it reduced the number of \"bookkeeping\" variables.\n",
    "\n",
    "Each line of code is a home for bugs to breed. Each place a variable is used, is an opportunity to use the wrong variable – and therefore introduce a bug.\n",
    "\n",
    "The rest of this section illustrates this.\n",
    "\n",
    "Consider this new specification:\n",
    "\n",
    "> Given a list of words, compute the number of vowels in all the words.\n",
    "\n",
    "This is very similar to the original specification, so we'll start with that."
   ]
  },
  {
   "cell_type": "markdown",
   "metadata": {},
   "source": [
    "Return for a moment to our *original* implementation of the letter counter:"
   ]
  },
  {
   "cell_type": "code",
   "execution_count": null,
   "metadata": {},
   "outputs": [],
   "source": [
    "words = [\"fabulous\", \"flying\", \"phoenix\"]\n",
    "\n",
    "letter_count = 0\n",
    "i = 0                    # <- initialize\n",
    "while True:\n",
    "    w = words[i]         # <- index\n",
    "    letter_count = letter_count + len(w)\n",
    "    i = i + 1            # <- increment\n",
    "    if i >= len(words):  # <- test\n",
    "        break            # <- terminate\n",
    "print(\"these words total\", letter_count, \"letters\")"
   ]
  },
  {
   "cell_type": "markdown",
   "metadata": {},
   "source": [
    "Here's code to count the vowels in a single word:"
   ]
  },
  {
   "cell_type": "code",
   "execution_count": 33,
   "metadata": {},
   "outputs": [
    {
     "name": "stdout",
     "output_type": "stream",
     "text": [
      "fabulous contains 4 vowels\n"
     ]
    }
   ],
   "source": [
    "word = \"fabulous\"\n",
    "\n",
    "vowel_count = 0\n",
    "i = 0\n",
    "while i < len(word):\n",
    "    c = word[i]\n",
    "    if c in 'aeiouy':\n",
    "        vowel_count = vowel_count + 1\n",
    "    i = i + 1\n",
    "print(word, \"contains\", vowel_count, \"vowels\")"
   ]
  },
  {
   "cell_type": "markdown",
   "metadata": {},
   "source": [
    "We can combine the previous two cells (sum the number of letters in all the word, count the number of vowels in a single word) into a single script:\n",
    "\n",
    "There's a couple of gotchas:\n",
    "\n",
    "1. The first script uses `w` for the word. The second script uses `word`. We need to either rename `w` to `word` in the first script, or `word` to `w` in the second script. (We'll do the second.)\n",
    "2. The first script uses `i` to index into the list of words. The second script uses `i` to index into the characters within a single word. We need to rename one of these variables. (We'll rename `i` in the second script to `j`.) Be careful to rename *all* the occurrences of `i` in the second script.\n",
    "\n",
    "The modified vowel-counter looks like this:"
   ]
  },
  {
   "cell_type": "code",
   "execution_count": null,
   "metadata": {},
   "outputs": [],
   "source": [
    "w = \"fabulous\"\n",
    "\n",
    "vowel_count = 0\n",
    "j = 0\n",
    "while j < len(w):\n",
    "    c = w[j]\n",
    "    if c in 'aeiouy':\n",
    "        vowel_count = vowel_count + 1\n",
    "    j = j + 1\n",
    "print(w, \"contains\", vowel_count, \"vowels\")"
   ]
  },
  {
   "cell_type": "markdown",
   "metadata": {},
   "source": [
    "And putting them together:"
   ]
  },
  {
   "cell_type": "code",
   "execution_count": 9,
   "metadata": {},
   "outputs": [
    {
     "name": "stdout",
     "output_type": "stream",
     "text": [
      "these words have 9 vowels in all\n"
     ]
    }
   ],
   "source": [
    "words = [\"fabulous\", \"flying\", \"phoenix\"]\n",
    "\n",
    "vowel_count = 0\n",
    "i = 0                    # <- outer initialization\n",
    "while i < len(words):    # <- outer test\n",
    "    w = words[i]         # <- outer index\n",
    "    j = 0                  # <- inner initialization\n",
    "    while j < len(w):      # <- inner test\n",
    "        c = w[j]           # <- inner index\n",
    "        if c in 'aeiouy':\n",
    "            vowel_count = vowel_count + 1\n",
    "        j = j + 1          # <- inner increment\n",
    "    i = i + 1            # <- outer increment\n",
    "print(\"these words have\", vowel_count, \"vowels in all\")"
   ]
  },
  {
   "cell_type": "markdown",
   "metadata": {},
   "source": [
    "In practice, it's very hard to do this reliably. References to `i` are mixed with references to `j`, and it's easy to slip up.\n",
    "\n",
    "See if you can spot the problem with the following script. This script never terminates."
   ]
  },
  {
   "cell_type": "code",
   "execution_count": null,
   "metadata": {},
   "outputs": [],
   "source": [
    "words = [\"fabulous\", \"flying\", \"phoenix\"]\n",
    "\n",
    "vowel_count = 0\n",
    "i = 0                    # <- outer initialization\n",
    "while i < len(words):    # <- outer test\n",
    "    w = words[i]         # <- outer index\n",
    "    j = 0                  # <- inner initialization\n",
    "    while j < len(w):      # <- inner test\n",
    "        c = w[j]           # <- inner index\n",
    "        if c in 'aeiouy':\n",
    "            vowel_count = vowel_count + 1\n",
    "        i = i + 1          # <- inner increment OR IS IT?\n",
    "    i = i + 1            # <- outer increment\n",
    "print(\"these words have\", vowel_count, \"vowels in all\")"
   ]
  },
  {
   "cell_type": "markdown",
   "metadata": {},
   "source": [
    "Now let's switch to our final implementation of the letter counter, that used `range`:"
   ]
  },
  {
   "cell_type": "code",
   "execution_count": 38,
   "metadata": {
    "scrolled": true
   },
   "outputs": [
    {
     "name": "stdout",
     "output_type": "stream",
     "text": [
      "these words total 21 letters\n"
     ]
    }
   ],
   "source": [
    "words = [\"fabulous\", \"flying\", \"phoenix\"]\n",
    "\n",
    "letter_count = 0\n",
    "for w in words: # <- initialize, index, increment, test, and terminate\n",
    "    letter_count = letter_count + len(w)\n",
    "print(\"these words total\", letter_count, \"letters\")"
   ]
  },
  {
   "cell_type": "markdown",
   "metadata": {},
   "source": [
    "Here's a vowel counter that also uses `range`:"
   ]
  },
  {
   "cell_type": "code",
   "execution_count": 39,
   "metadata": {},
   "outputs": [
    {
     "name": "stdout",
     "output_type": "stream",
     "text": [
      "fabulous contains 4 vowels\n"
     ]
    }
   ],
   "source": [
    "word = \"fabulous\"\n",
    "\n",
    "vowel_count = 0\n",
    "for c in word:\n",
    "    if c in 'aeiouy':\n",
    "        vowel_count = vowel_count + 1\n",
    "print(word, \"contains\", vowel_count, \"vowels\")"
   ]
  },
  {
   "cell_type": "markdown",
   "metadata": {},
   "source": [
    "It's much easier to fuse these two cells. We still need to rename `word` in the vowel counter to `w`, but there's no colliding loop counters such as `i` and `j` the last time we tried this."
   ]
  },
  {
   "cell_type": "code",
   "execution_count": 11,
   "metadata": {},
   "outputs": [
    {
     "name": "stdout",
     "output_type": "stream",
     "text": [
      "these words have 9 vowels in all\n"
     ]
    }
   ],
   "source": [
    "words = [\"fabulous\", \"flying\", \"phoenix\"]\n",
    "\n",
    "vowel_count = 0\n",
    "for w in words: # <- outer initialize, index, increment, test, and terminate\n",
    "    for c in w:\n",
    "        if c in 'aeiouy': # <- inner initialize, index, increment, test, and terminate\n",
    "            vowel_count = vowel_count + 1\n",
    "print(\"these words have\", vowel_count, \"vowels in all\")"
   ]
  },
  {
   "cell_type": "markdown",
   "metadata": {},
   "source": [
    "### Another Approach: Functions"
   ]
  },
  {
   "cell_type": "markdown",
   "metadata": {},
   "source": [
    "You might have noticed there's another way to compose *units of functionality*, such as \"do something to each word in list\" and \"count vowels in a word\". That's to compose *functions*.\n",
    "\n",
    "Returning once again to our original implementations of \"sum the lengths of the words\" and \"count the vowels in a single word\", let's turn each of these scripts into a function:"
   ]
  },
  {
   "cell_type": "code",
   "execution_count": 47,
   "metadata": {},
   "outputs": [
    {
     "name": "stdout",
     "output_type": "stream",
     "text": [
      "these words total 21 letters\n"
     ]
    }
   ],
   "source": [
    "def count_letters_in_word_list(words):\n",
    "    count = 0\n",
    "    i = 0\n",
    "    while True:\n",
    "        w = words[i]\n",
    "        count = count + len(w)\n",
    "        i = i + 1\n",
    "        if i >= len(words):\n",
    "            break\n",
    "    return count\n",
    "\n",
    "print(\"these words total\", count_letters_in_word_list([\"fabulous\", \"flying\", \"phoenix\"]), \"letters\")"
   ]
  },
  {
   "cell_type": "code",
   "execution_count": 48,
   "metadata": {},
   "outputs": [
    {
     "name": "stdout",
     "output_type": "stream",
     "text": [
      "fabulous contains 4 vowels\n"
     ]
    }
   ],
   "source": [
    "def count_vowels(word):\n",
    "    vowel_count = 0\n",
    "    i = 0\n",
    "    while i < len(word):\n",
    "        c = word[i]\n",
    "        if c in 'aeiouy':\n",
    "            vowel_count = vowel_count + 1\n",
    "        i = i + 1\n",
    "    return vowel_count\n",
    "\n",
    "print(word, \"contains\", count_vowels(\"fabulous\"), \"vowels\")"
   ]
  },
  {
   "cell_type": "markdown",
   "metadata": {},
   "source": [
    "We combine them by changing `count_letters_in_word_list` to call `count_vowels` instead of `len`. (I've also renamed the function `count_letters_in_word_list` to `count_vowels_in_word_list`.)"
   ]
  },
  {
   "cell_type": "code",
   "execution_count": 51,
   "metadata": {
    "scrolled": true
   },
   "outputs": [
    {
     "name": "stdout",
     "output_type": "stream",
     "text": [
      "these words have 21 vowels in all\n"
     ]
    }
   ],
   "source": [
    "def count_vowels_in_word_list(words):  # <- renamed the function\n",
    "    count = 0\n",
    "    i = 0\n",
    "    while True:\n",
    "        w = words[i]\n",
    "        count = count + len(w)   # <- this is the only other change\n",
    "        i = i + 1\n",
    "        if i >= len(words):\n",
    "            break\n",
    "    return count\n",
    "\n",
    "print(\"these words have\", count_vowels_in_word_list([\"fabulous\", \"flying\", \"phoenix\"]), \"vowels in all\")"
   ]
  },
  {
   "cell_type": "markdown",
   "metadata": {},
   "source": [
    "We could change the implementation of `count_vowels` without changing `count_vowels_in_word_list`.\n",
    "\n",
    "We could also change the implementation of `count_vowels_in_word_list` without changing `count_vowels`.\n",
    "\n",
    "We can mix and match: any correct implementation `count_vowels` works with any correct implementation of `count_vowels_in_word_list`.\n",
    "\n",
    "Separating these units of *functionality* into separate *functions* therefore insulates them from each other in a way that fusing them into a single script can't do."
   ]
  },
  {
   "cell_type": "code",
   "execution_count": 50,
   "metadata": {},
   "outputs": [
    {
     "name": "stdout",
     "output_type": "stream",
     "text": [
      "fabulous contains 4 vowels\n"
     ]
    }
   ],
   "source": [
    "def count_vowels(word):\n",
    "    vowel_count = 0\n",
    "    for c in word:\n",
    "        if c in 'aeiouy':\n",
    "            vowel_count = vowel_count + 1\n",
    "    return vowel_count\n",
    "\n",
    "print(word, \"contains\", count_vowels(\"fabulous\"), \"vowels\")"
   ]
  },
  {
   "cell_type": "code",
   "execution_count": 52,
   "metadata": {},
   "outputs": [
    {
     "name": "stdout",
     "output_type": "stream",
     "text": [
      "these words have 9 vowels in all\n"
     ]
    }
   ],
   "source": [
    "def count_vowels_in_word_list(words):\n",
    "    count = 0\n",
    "    for w in words:\n",
    "        count = count + count_vowels(w)\n",
    "    return count\n",
    "\n",
    "print(\"these words have\", count_vowels_in_word_list([\"fabulous\", \"flying\", \"phoenix\"]), \"vowels in all\")"
   ]
  },
  {
   "cell_type": "markdown",
   "metadata": {},
   "source": [
    "## `enumerate` provides the index *and* the item"
   ]
  },
  {
   "cell_type": "markdown",
   "metadata": {},
   "source": [
    "Let's return to the original brief – count the letters in all the words – and add a requirement:\n",
    "\n",
    "Print the number of letters in each word, indexed by position.\n",
    "\n",
    "For example, if the list has \"fabulous\", \"flying\", and \"phoenix\", the script should print:\n",
    "\n",
    "    word #1 has 8 letters\n",
    "    word #2 has 6 letters\n",
    "    word #3 has 7 letters\n",
    "    these words total 21 letters\n",
    "\n",
    "Having seen the advantages of `for w in words`, "
   ]
  },
  {
   "cell_type": "code",
   "execution_count": 54,
   "metadata": {},
   "outputs": [
    {
     "ename": "NameError",
     "evalue": "name 'i' is not defined",
     "output_type": "error",
     "traceback": [
      "\u001b[0;31m----------------------------------------------------------------------\u001b[0m",
      "\u001b[0;31mNameError\u001b[0m                            Traceback (most recent call last)",
      "\u001b[0;32m<ipython-input-54-7df716470494>\u001b[0m in \u001b[0;36m<module>\u001b[0;34m()\u001b[0m\n\u001b[1;32m      4\u001b[0m \u001b[0;32mfor\u001b[0m \u001b[0mw\u001b[0m \u001b[0;32min\u001b[0m \u001b[0mwords\u001b[0m\u001b[0;34m:\u001b[0m\u001b[0;34m\u001b[0m\u001b[0m\n\u001b[1;32m      5\u001b[0m     \u001b[0mn\u001b[0m \u001b[0;34m=\u001b[0m \u001b[0mlen\u001b[0m\u001b[0;34m(\u001b[0m\u001b[0mw\u001b[0m\u001b[0;34m)\u001b[0m\u001b[0;34m\u001b[0m\u001b[0m\n\u001b[0;32m----> 6\u001b[0;31m     \u001b[0mprint\u001b[0m\u001b[0;34m(\u001b[0m\u001b[0;34m\"word #\"\u001b[0m\u001b[0;34m,\u001b[0m \u001b[0mi\u001b[0m \u001b[0;34m+\u001b[0m \u001b[0;36m1\u001b[0m\u001b[0;34m,\u001b[0m \u001b[0;34m\"has\"\u001b[0m\u001b[0;34m,\u001b[0m \u001b[0mn\u001b[0m\u001b[0;34m,\u001b[0m \u001b[0;34m\"letters\"\u001b[0m\u001b[0;34m)\u001b[0m\u001b[0;34m\u001b[0m\u001b[0m\n\u001b[0m\u001b[1;32m      7\u001b[0m     \u001b[0mletter_count\u001b[0m \u001b[0;34m=\u001b[0m \u001b[0mletter_count\u001b[0m \u001b[0;34m+\u001b[0m \u001b[0mn\u001b[0m\u001b[0;34m\u001b[0m\u001b[0m\n\u001b[1;32m      8\u001b[0m \u001b[0mprint\u001b[0m\u001b[0;34m(\u001b[0m\u001b[0;34m\"these words total\"\u001b[0m\u001b[0;34m,\u001b[0m \u001b[0mletter_count\u001b[0m\u001b[0;34m,\u001b[0m \u001b[0;34m\"letters\"\u001b[0m\u001b[0;34m)\u001b[0m\u001b[0;34m\u001b[0m\u001b[0m\n",
      "\u001b[0;31mNameError\u001b[0m: name 'i' is not defined"
     ]
    }
   ],
   "source": [
    "words = [\"fabulous\", \"flying\", \"phoenix\"]\n",
    "\n",
    "letter_count = 0\n",
    "for w in words:\n",
    "    n = len(w)\n",
    "    print(\"word #{} has {} letters\".format(i + 1, n))\n",
    "    letter_count = letter_count + n\n",
    "print(\"these words total\", letter_count, \"letters\")"
   ]
  },
  {
   "cell_type": "markdown",
   "metadata": {},
   "source": [
    "Oops! `for w in words` doesn't give us an index variable, just the item itself. This was an advantage because we didn't have to manage the index variable, but it's a disadvantage if we actually want it.\n",
    "\n",
    "We could create our own index variable to keep track of where we are within the list:"
   ]
  },
  {
   "cell_type": "code",
   "execution_count": 56,
   "metadata": {},
   "outputs": [
    {
     "name": "stdout",
     "output_type": "stream",
     "text": [
      "word #1 has 8 letters\n",
      "word #2 has 6 letters\n",
      "word #3 has 7 letters\n",
      "these words total 21 letters\n"
     ]
    }
   ],
   "source": [
    "words = [\"fabulous\", \"flying\", \"phoenix\"]\n",
    "\n",
    "letter_count = 0\n",
    "i = 0\n",
    "for w in words:\n",
    "    n = len(w)\n",
    "    print(\"word #{} has {} letters\".format(i + 1, n))\n",
    "    i = i + 1\n",
    "    letter_count = letter_count + n\n",
    "print(\"these words total\", letter_count, \"letters\")"
   ]
  },
  {
   "cell_type": "markdown",
   "metadata": {},
   "source": [
    "But now we're using two different mechanisms to traverse the same list at the same pace: the `for` loop with `w`, and our own `i`. Maybe it's better to iterate over the indices instead of the words:"
   ]
  },
  {
   "cell_type": "code",
   "execution_count": 35,
   "metadata": {
    "scrolled": false
   },
   "outputs": [
    {
     "name": "stdout",
     "output_type": "stream",
     "text": [
      "word #1 has 8 letters\n",
      "word #2 has 6 letters\n",
      "word #3 has 7 letters\n",
      "these words total 21 letters\n"
     ]
    }
   ],
   "source": [
    "words = [\"fabulous\", \"flying\", \"phoenix\"]\n",
    "\n",
    "letter_count = 0\n",
    "for i in range(len(words)):\n",
    "    w = words[i]\n",
    "    n = len(w)\n",
    "    print(\"word #{} has {} letters\".format(i + 1, n))\n",
    "    letter_count = letter_count + n\n",
    "print(\"these words total\", letter_count, \"letters\")"
   ]
  },
  {
   "cell_type": "markdown",
   "metadata": {},
   "source": [
    "This is acceptable, but it's galling to have to go back to iterating over indices just to get to the words. And this is a very common requirement.\n",
    "\n",
    "An alternative is the `enumerate` function, which generates a sequence of pairs: (index, item).\n",
    "\n",
    "(The value `(0, 'fabulous')` is a *tuple*. It behaves the same as the list `[0, 'fabulous']`, for our purposes.)"
   ]
  },
  {
   "cell_type": "code",
   "execution_count": 61,
   "metadata": {
    "scrolled": true
   },
   "outputs": [
    {
     "name": "stdout",
     "output_type": "stream",
     "text": [
      "enumerate(words) = <enumerate object at 0x106a9f948>\n",
      "enumerate(words) behaves as [(0, 'fabulous'), (1, 'flying'), (2, 'phoenix')]\n"
     ]
    }
   ],
   "source": [
    "print(\"enumerate(words) =\", enumerate(words))\n",
    "print(\"enumerate(words) behaves as\", list(enumerate(words)))"
   ]
  },
  {
   "cell_type": "code",
   "execution_count": 62,
   "metadata": {
    "scrolled": true
   },
   "outputs": [
    {
     "name": "stdout",
     "output_type": "stream",
     "text": [
      "word #1 has 8 letters\n",
      "word #2 has 6 letters\n",
      "word #3 has 7 letters\n",
      "these words total 21 letters\n"
     ]
    }
   ],
   "source": [
    "words = [\"fabulous\", \"flying\", \"phoenix\"]\n",
    "\n",
    "letter_count = 0\n",
    "for index_and_word in enumerate(words):\n",
    "    i = index_and_word[0]\n",
    "    w = index_and_word[1]\n",
    "    n = len(w)\n",
    "    print(\"word #{} has {} letters\".format(i + 1, n))\n",
    "    letter_count = letter_count + n\n",
    "print(\"these words total\", letter_count, \"letters\")"
   ]
  },
  {
   "cell_type": "markdown",
   "metadata": {},
   "source": [
    "This can be simplified using the shortcut `a, b = pair`, which is equivalent to `a = pair[0]; b = pair[1]` if `pair` is a list or tuple with length 2."
   ]
  },
  {
   "cell_type": "code",
   "execution_count": 36,
   "metadata": {
    "scrolled": true
   },
   "outputs": [
    {
     "name": "stdout",
     "output_type": "stream",
     "text": [
      "word #1 has 8 letters\n",
      "word #2 has 6 letters\n",
      "word #3 has 7 letters\n",
      "these words total 21 letters\n"
     ]
    }
   ],
   "source": [
    "words = [\"fabulous\", \"flying\", \"phoenix\"]\n",
    "\n",
    "letter_count = 0\n",
    "for index_and_word in enumerate(words):\n",
    "    i, w = index_and_word\n",
    "    n = len(w)\n",
    "    print(\"word #{} has {} letters\".format(i + 1, n))\n",
    "    letter_count = letter_count + n\n",
    "print(\"these words total\", letter_count, \"letters\")"
   ]
  },
  {
   "cell_type": "markdown",
   "metadata": {},
   "source": [
    "This can further be simplified by replacing `index_and_word` by `i, w`, instead of assigning them from it later."
   ]
  },
  {
   "cell_type": "code",
   "execution_count": 37,
   "metadata": {},
   "outputs": [
    {
     "name": "stdout",
     "output_type": "stream",
     "text": [
      "word #1 has 8 letters\n",
      "word #2 has 6 letters\n",
      "word #3 has 7 letters\n",
      "these words total 21 letters\n"
     ]
    }
   ],
   "source": [
    "words = [\"fabulous\", \"flying\", \"phoenix\"]\n",
    "\n",
    "letter_count = 0\n",
    "for i, w in enumerate(words):\n",
    "    n = len(w)\n",
    "    print(\"word #{} has {} letters\".format(i + 1, n))\n",
    "    letter_count = letter_count + n\n",
    "print(\"these words total\", letter_count, \"letters\")"
   ]
  }
 ],
 "metadata": {
  "kernelspec": {
   "display_name": "Python 3",
   "language": "python",
   "name": "python3"
  },
  "language_info": {
   "codemirror_mode": {
    "name": "ipython",
    "version": 3
   },
   "file_extension": ".py",
   "mimetype": "text/x-python",
   "name": "python",
   "nbconvert_exporter": "python",
   "pygments_lexer": "ipython3",
   "version": "3.5.2"
  }
 },
 "nbformat": 4,
 "nbformat_minor": 2
}
